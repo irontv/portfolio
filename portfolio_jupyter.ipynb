{
 "cells": [
  {
   "cell_type": "markdown",
   "source": [
    "# This is heading\r\n",
    "\r\n",
    "This is contents.\r\n",
    "\r\n",
    "## Subheading\r\n",
    "\r\n",
    "* Bulleted lists\r\n",
    "* **bolded text**\r\n",
    "* [link to web page Markdown Cheat Sheet](https://www.markdownguide.org/cheat-sheet/)"
   ],
   "metadata": {}
  },
  {
   "cell_type": "code",
   "execution_count": 1,
   "source": [
    "# Description: Python finance program\r\n",
    "# https://www.youtube.com/watch?v=O-O1WclwXck\r\n",
    "\r\n",
    "from datetime import datetime\r\n",
    "import numpy as np\r\n",
    "import pandas as pd\r\n",
    "import pandas_datareader as web\r\n",
    "import matplotlib.pyplot as plt\r\n",
    "plt.style.use('fivethirtyeight')\r\n",
    "\r\n",
    "# Get the stock symbols for the portfolio\r\n",
    "stockSymbols = [\"FB\", \"AAPL\", \"NFLX\"]\r\n",
    "\r\n",
    "# Get today' date and format it in the form of YYYY-mm-dd\r\n",
    "stockStartDate = '2021-08-01'\r\n",
    "today = datetime.today().strftime('%Y-%m-%d')\r\n",
    "print(today)\r\n",
    "\r\n",
    "# Get the number of assets in the portfolio\r\n",
    "numAssets = len(stockSymbols)\r\n",
    "print('You have ' + str(numAssets) + ' assets in your portfolio.')\r\n"
   ],
   "outputs": [
    {
     "output_type": "stream",
     "name": "stdout",
     "text": [
      "2021-09-25\n",
      "You have 3 assets in your portfolio.\n"
     ]
    }
   ],
   "metadata": {}
  },
  {
   "cell_type": "markdown",
   "source": [],
   "metadata": {}
  },
  {
   "cell_type": "code",
   "execution_count": null,
   "source": [
    "# Create a function to get the stock prices in the portfolio\r\n",
    "def getMyPortfolio(stocks=stockSymbols, start=stockStartDate, end=today, col='Adj Close'):\r\n",
    "  data = web.DataReader(stocks, data_source='yahoo', start=start, end=end)[col]\r\n",
    "  return data\r\n",
    "\r\n",
    "# Get the stock portfolio Adj. Close price\r\n",
    "my_stocks = getMyPortfolio()\r\n",
    "print(my_stocks)"
   ],
   "outputs": [],
   "metadata": {}
  },
  {
   "cell_type": "code",
   "execution_count": null,
   "source": [
    "def getStockData(stocks=stockSymbols, start=stockStartDate, end=today):\r\n",
    "  for s in stocks:\r\n",
    "    s_data = web.DataReader(s, data_source='yahoo', start=start, end=end)\r\n",
    "    s_data.to_csv(s, index=True, float_format='%.2f', sep=' ')\r\n",
    "\r\n",
    "getStockData()"
   ],
   "outputs": [],
   "metadata": {}
  },
  {
   "cell_type": "code",
   "execution_count": null,
   "source": [
    "# Create a function to visualize the portfolio\r\n",
    "def showGraph(stocks=stockSymbols, start=stockStartDate, end=today, col='Adj Close'):\r\n",
    "\r\n",
    "  # Create a title for the portfolio\r\n",
    "  title = 'Porfolio ' + col + ' Price History'\r\n",
    "\r\n",
    "  # Get the stocks\r\n",
    "  my_stocks = getMyPortfolio(stocks, start, end, col)\r\n",
    "  # print(my_stocks.columns)\r\n",
    "  # print(my_stocks.values)\r\n",
    "  # print(my_stocks.columns.values)\r\n",
    "  # for c in my_stocks.columns.values:\r\n",
    "  #   print(my_stocks[c])\r\n",
    "\r\n",
    "  plt.figure(figsize=(20.2, 8.5))   # inches in width & height\r\n",
    "  for c in my_stocks.columns.values:\r\n",
    "    plt.plot(my_stocks[c], label=c)\r\n",
    "\r\n",
    "  plt.title(title)\r\n",
    "  plt.xlabel('Date', fontsize = 18)\r\n",
    "  plt.ylabel(col + ' Price USD ($)', fontsize = 18)\r\n",
    "  plt.legend(my_stocks.columns.values, loc='upper left')\r\n",
    "  plt.show()\r\n",
    "\r\n",
    "showGraph(stockSymbols, stockStartDate, today, 'Adj Close')"
   ],
   "outputs": [],
   "metadata": {}
  },
  {
   "cell_type": "markdown",
   "source": [
    "# This is another memo in markdown format\r\n",
    "\r\n",
    "Its contents"
   ],
   "metadata": {}
  },
  {
   "cell_type": "code",
   "execution_count": null,
   "source": [
    "# Calculate the simple returns\r\n",
    "daily_simple_returns = my_stocks.pct_change(1)\r\n",
    "\r\n",
    "# show the daily simple returns\r\n",
    "print(daily_simple_returns)"
   ],
   "outputs": [],
   "metadata": {}
  },
  {
   "cell_type": "code",
   "execution_count": null,
   "source": [
    "# Show the stock correlation\r\n",
    "print(daily_simple_returns.corr())\r\n"
   ],
   "outputs": [],
   "metadata": {}
  },
  {
   "cell_type": "code",
   "execution_count": null,
   "source": [
    "# Show the covariance matrix for simple returns\r\n",
    "print(daily_simple_returns.cov())\r\n"
   ],
   "outputs": [],
   "metadata": {}
  },
  {
   "cell_type": "code",
   "execution_count": null,
   "source": [
    "# show the variance\r\n",
    "print(daily_simple_returns.var())"
   ],
   "outputs": [],
   "metadata": {}
  },
  {
   "cell_type": "code",
   "execution_count": null,
   "source": [
    "# Print the standard deviation for daily simple returns\r\n",
    "\r\n",
    "print(\"The Stock Volatility:\")\r\n",
    "print(daily_simple_returns.std())"
   ],
   "outputs": [],
   "metadata": {}
  },
  {
   "cell_type": "code",
   "execution_count": null,
   "source": [
    "# Visualize the stocks daily simple returns\r\n",
    "\r\n",
    "plt.figure(figsize=(12, 4.5))\r\n",
    "\r\n",
    "for c in daily_simple_returns.columns.values:\r\n",
    "    plt.plot(daily_simple_returns.index, daily_simple_returns[c], lw=2, label=c)\r\n",
    "\r\n",
    "plt.legend(loc='upper right', fontsize=10)\r\n",
    "plt.title('Volatility')\r\n",
    "plt.xlabel('Date')\r\n",
    "plt.ylabel('Daily Simple Returns')\r\n",
    "plt.show()"
   ],
   "outputs": [],
   "metadata": {}
  },
  {
   "cell_type": "code",
   "execution_count": null,
   "source": [
    "# the mean of the daily simple return\r\n",
    "dailyMeanSimpleReturns = daily_simple_returns.mean()\r\n",
    "print(dailyMeanSimpleReturns)\r\n"
   ],
   "outputs": [],
   "metadata": {}
  },
  {
   "cell_type": "code",
   "execution_count": null,
   "source": [
    "# Calculate the expected portfolio daily return\r\n",
    "randomWeights = np.array([0.5, 0.2, 0.3]) # 50% FB, 20% AAPL, 30% NFLX\r\n",
    "print(randomWeights)\r\n",
    "print(dailyMeanSimpleReturns.values)\r\n",
    "portfolioSimpleReturn = np.sum(dailyMeanSimpleReturns * randomWeights)\r\n",
    "print(portfolioSimpleReturn)"
   ],
   "outputs": [],
   "metadata": {}
  },
  {
   "cell_type": "code",
   "execution_count": null,
   "source": [
    "# Get the yearly simple return for the yearly trading days\r\n",
    "print(\"Expected annualised portfolio simple return: \" + str(portfolioSimpleReturn * 253))"
   ],
   "outputs": [],
   "metadata": {}
  },
  {
   "cell_type": "code",
   "execution_count": null,
   "source": [
    "# Calcualte the growth of the investment\r\n",
    "dailyCumulSimplReturn = (daily_simple_returns+1).cumprod()\r\n",
    "print(dailyCumulSimplReturn)\r\n",
    "\r\n",
    "print((daily_simple_returns['FB'][1] + 1) * (daily_simple_returns['FB'][2] + 1))"
   ],
   "outputs": [],
   "metadata": {}
  },
  {
   "cell_type": "code",
   "execution_count": null,
   "source": [
    "# Visualize the daily simple cumulative simple returns\r\n",
    "\r\n",
    "plt.figure(figsize=(12.2, 4.5))\r\n",
    "for c in dailyCumulSimplReturn.columns.values:\r\n",
    "    plt.plot(dailyCumulSimplReturn[c], lw=2, label=c)\r\n",
    "\r\n",
    "plt.legend(loc='upper left', fontsize=10)\r\n",
    "plt.xlabel('Date')\r\n",
    "plt.ylabel('Growth of $1 investment')\r\n",
    "plt.title('Daily cumulative Simple Returns')\r\n",
    "plt.show()"
   ],
   "outputs": [],
   "metadata": {}
  }
 ],
 "metadata": {
  "orig_nbformat": 4,
  "language_info": {
   "name": "python",
   "version": "3.9.7",
   "mimetype": "text/x-python",
   "codemirror_mode": {
    "name": "ipython",
    "version": 3
   },
   "pygments_lexer": "ipython3",
   "nbconvert_exporter": "python",
   "file_extension": ".py"
  },
  "kernelspec": {
   "name": "python3",
   "display_name": "Python 3.9.7 64-bit ('.venv': venv)"
  },
  "interpreter": {
   "hash": "10a42c11190a874d40ef22ed585eb3c94902332f76525e7b349eb23496c67aa4"
  }
 },
 "nbformat": 4,
 "nbformat_minor": 2
}